{
  "cells": [
    {
      "cell_type": "markdown",
      "metadata": {
        "id": "w829qkPAq9qS"
      },
      "source": [
        "# 1- Import all necessary libraries for the machine learning project."
      ]
    },
    {
      "cell_type": "code",
      "execution_count": null,
      "metadata": {
        "id": "uBdm7aY-UqVx"
      },
      "outputs": [],
      "source": [
        "# import the necessary libraries\n",
        "import pandas as pd\n",
        "import tensorflow as tf\n",
        "import numpy as np\n",
        "from sklearn import model_selection, metrics, preprocessing, linear_model, neighbors, svm, tree\n",
        "from sklearn.ensemble import RandomForestClassifier\n",
        "import matplotlib.pyplot as plt\n",
        "from sklearn.metrics import classification_report\n",
        "\n"
      ]
    },
    {
      "cell_type": "markdown",
      "metadata": {
        "id": "6g4tht-nmweh"
      },
      "source": [
        "# 2- Download the dataset using tf.keras.dataset"
      ]
    },
    {
      "cell_type": "code",
      "execution_count": null,
      "metadata": {
        "colab": {
          "base_uri": "https://localhost:8080/"
        },
        "id": "cGhdu-K3dCwn",
        "outputId": "e320eb60-e2a4-4a70-8600-60dad69275fa"
      },
      "outputs": [
        {
          "name": "stdout",
          "output_type": "stream",
          "text": [
            "Downloading data from https://storage.googleapis.com/tensorflow/tf-keras-datasets/train-labels-idx1-ubyte.gz\n",
            "32768/29515 [=================================] - 0s 0us/step\n",
            "40960/29515 [=========================================] - 0s 0us/step\n",
            "Downloading data from https://storage.googleapis.com/tensorflow/tf-keras-datasets/train-images-idx3-ubyte.gz\n",
            "26427392/26421880 [==============================] - 0s 0us/step\n",
            "26435584/26421880 [==============================] - 0s 0us/step\n",
            "Downloading data from https://storage.googleapis.com/tensorflow/tf-keras-datasets/t10k-labels-idx1-ubyte.gz\n",
            "16384/5148 [===============================================================================================] - 0s 0us/step\n",
            "Downloading data from https://storage.googleapis.com/tensorflow/tf-keras-datasets/t10k-images-idx3-ubyte.gz\n",
            "4423680/4422102 [==============================] - 0s 0us/step\n",
            "4431872/4422102 [==============================] - 0s 0us/step\n"
          ]
        }
      ],
      "source": [
        "# download the required dataset\n",
        "(x_train, y_train), (x_test, y_test) = tf.keras.datasets.fashion_mnist.load_data()\n"
      ]
    },
    {
      "cell_type": "code",
      "execution_count": null,
      "metadata": {
        "colab": {
          "base_uri": "https://localhost:8080/",
          "height": 282
        },
        "id": "kBMYbkgtrP5w",
        "outputId": "44e2a733-060b-4747-d0a7-35143f313961"
      },
      "outputs": [
        {
          "data": {
            "text/plain": [
              "<matplotlib.image.AxesImage at 0x7f9dce3909d0>"
            ]
          },
          "execution_count": 3,
          "metadata": {},
          "output_type": "execute_result"
        },
        {
          "data": {
            "image/png": "[encoded data removed]",
            "text/plain": [
              "<Figure size 432x288 with 1 Axes>"
            ]
          },
          "metadata": {
            "needs_background": "light"
          },
          "output_type": "display_data"
        }
      ],
      "source": [
        "# plot image samples from the dataset \n",
        "plt.imshow(x_train[0])"
      ]
    },
    {
      "cell_type": "code",
      "execution_count": null,
      "metadata": {
        "colab": {
          "base_uri": "https://localhost:8080/"
        },
        "id": "wlb_i9T3rk8f",
        "outputId": "e4c0c0e3-4f4b-45c6-b491-27576ea0f81b"
      },
      "outputs": [
        {
          "name": "stdout",
          "output_type": "stream",
          "text": [
            "x_train shape: (60000, 28, 28)\n",
            "y_train shape: (60000,)\n",
            "x_test shape: (10000, 28, 28)\n",
            "y_test shape: (10000,)\n"
          ]
        }
      ],
      "source": [
        "# check the shape of the following (x_train, y_train and x_test, y_test)\n",
        "print(f'x_train shape: {x_train.shape}')\n",
        "print(f'y_train shape: {y_train.shape}')\n",
        "print(f'x_test shape: {x_test.shape}')\n",
        "print(f'y_test shape: {y_test.shape}')"
      ]
    },
    {
      "cell_type": "code",
      "execution_count": null,
      "metadata": {
        "colab": {
          "base_uri": "https://localhost:8080/",
          "height": 334
        },
        "id": "7ZWgBTqKsAAL",
        "outputId": "9720c6ad-e6f0-4ec5-9079-708b2b898dc4"
      },
      "outputs": [
        {
          "data": {
            "text/plain": [
              "(array([1000., 1000., 1000., 1000., 1000., 1000., 1000., 1000., 1000.,\n",
              "        1000.]),\n",
              " array([0. , 0.9, 1.8, 2.7, 3.6, 4.5, 5.4, 6.3, 7.2, 8.1, 9. ]),\n",
              " <a list of 10 Patch objects>)"
            ]
          },
          "execution_count": 5,
          "metadata": {},
          "output_type": "execute_result"
        },
        {
          "data": {
            "image/png": "[encoded data removed]",
            "text/plain": [
              "<Figure size 432x288 with 1 Axes>"
            ]
          },
          "metadata": {
            "needs_background": "light"
          },
          "output_type": "display_data"
        }
      ],
      "source": [
        "# plot the histogram of the target from the training and testing distribution \n",
        "\n",
        "plt.hist(y_train)\n",
        "plt.hist(y_test)"
      ]
    },
    {
      "cell_type": "markdown",
      "metadata": {
        "id": "M_uRTiZJnLgq"
      },
      "source": [
        "# 3- Make sure the pixels values are scaled between (0-1)"
      ]
    },
    {
      "cell_type": "code",
      "execution_count": null,
      "metadata": {
        "id": "9bmGWG22nUnz"
      },
      "outputs": [],
      "source": [
        "# scale the pixels values between 0-1\n",
        "# train set / data \n",
        "x_train = np.expand_dims(x_train, axis=-1)\n",
        "# x_train = np.repeat(x_train, 3, axis=-1)\n",
        "x_train = x_train.astype('float32') / 255\n",
        "\n",
        "# validation set / data \n",
        "x_test = np.expand_dims(x_test, axis=-1)\n",
        "# x_test = np.repeat(x_test, 3, axis=-1)\n",
        "x_test = x_test.astype('float32') / 255"
      ]
    },
    {
      "cell_type": "code",
      "execution_count": null,
      "metadata": {
        "id": "sEdD8gwHUGex"
      },
      "outputs": [],
      "source": []
    },
    {
      "cell_type": "code",
      "execution_count": null,
      "metadata": {
        "id": "VUgkrG2gusaT"
      },
      "outputs": [],
      "source": [
        "# convert the images into vectors\n",
        "x_train_vec = x_train.reshape(-1, 28*28)\n",
        "x_test_vec = x_test.reshape(-1, 28*28)\n"
      ]
    },
    {
      "cell_type": "markdown",
      "metadata": {
        "id": "ckUtAjXWnXFl"
      },
      "source": [
        "# 4- Make sure to convert the target into one hot vector"
      ]
    },
    {
      "cell_type": "code",
      "execution_count": null,
      "metadata": {
        "id": "p_C9e67fq_TJ"
      },
      "outputs": [],
      "source": [
        "# encode the training and testing target into one hot vector\n",
        "y_train_hot = tf.keras.utils.to_categorical(y_train, 10)\n",
        "y_test_hot =tf.keras.utils.to_categorical(y_test, 10)"
      ]
    },
    {
      "cell_type": "markdown",
      "metadata": {
        "id": "HCe35fm1nlS4"
      },
      "source": [
        "# 5- Modeling\n",
        "Train six different models (KNN, Logistics Regression, Support Vector Machine, Decision Tree, Random Forest, DNN)\n",
        "\n",
        "\n",
        "**Note:**\n",
        "1. Make sure to saperate each model in a new sub-section.\n",
        "2. Make sure to achieve the following results for the testing data: \n",
        "<br> Accuracy equal or above \"95%\", and Loss equal or below \"0.1\".\n",
        "3. Plot the loss and validation loss values from the training history of the DNN model.\n",
        "4. Use the right evaluation metrics to choose the best model (write down your choice of the best model)."
      ]
    },
    {
      "cell_type": "markdown",
      "metadata": {
        "id": "KRmmqYZKtA5F"
      },
      "source": [
        "## KNN Model"
      ]
    },
    {
      "cell_type": "code",
      "execution_count": null,
      "metadata": {
        "colab": {
          "base_uri": "https://localhost:8080/"
        },
        "id": "xCO4b9WNnqd8",
        "outputId": "605f88b2-82db-4035-c3bc-5017b6c41ee1"
      },
      "outputs": [
        {
          "data": {
            "text/plain": [
              "KNeighborsClassifier(leaf_size=5)"
            ]
          },
          "execution_count": 10,
          "metadata": {},
          "output_type": "execute_result"
        }
      ],
      "source": [
        "# build the model\n",
        "knn = neighbors.KNeighborsClassifier(n_neighbors=5, algorithm='auto', leaf_size=5)\n",
        "knn.fit(x_train_vec, y_train)"
      ]
    },
    {
      "cell_type": "markdown",
      "metadata": {
        "id": "VFovve_stFuW"
      },
      "source": [
        "### Model evaluation"
      ]
    },
    {
      "cell_type": "code",
      "execution_count": null,
      "metadata": {
        "colab": {
          "base_uri": "https://localhost:8080/"
        },
        "id": "AVgt0P_LtOKD",
        "outputId": "30123f56-71db-4408-f6eb-f0af9eec00f1"
      },
      "outputs": [
        {
          "name": "stdout",
          "output_type": "stream",
          "text": [
            "accuracy: 0.8554\n",
            "              precision    recall  f1-score   support\n",
            "\n",
            "           0       0.77      0.85      0.81      1000\n",
            "           1       0.99      0.97      0.98      1000\n",
            "           2       0.73      0.82      0.77      1000\n",
            "           3       0.90      0.86      0.88      1000\n",
            "           4       0.79      0.77      0.78      1000\n",
            "           5       0.99      0.82      0.90      1000\n",
            "           6       0.66      0.57      0.61      1000\n",
            "           7       0.88      0.96      0.92      1000\n",
            "           8       0.97      0.95      0.96      1000\n",
            "           9       0.90      0.97      0.93      1000\n",
            "\n",
            "    accuracy                           0.86     10000\n",
            "   macro avg       0.86      0.86      0.85     10000\n",
            "weighted avg       0.86      0.86      0.85     10000\n",
            "\n"
          ]
        }
      ],
      "source": [
        "# evaluate the model\n",
        "pred = knn.predict(x_test_vec)\n",
        "print(f'accuracy: {metrics.accuracy_score(y_test,pred)}')\n",
        "print(classification_report(y_test, pred))\n"
      ]
    },
    {
      "cell_type": "markdown",
      "metadata": {
        "id": "IX04TkSR-qXc"
      },
      "source": [
        "## Logistics Regression"
      ]
    },
    {
      "cell_type": "code",
      "execution_count": null,
      "metadata": {
        "colab": {
          "base_uri": "https://localhost:8080/"
        },
        "id": "heO01D-O-zFj",
        "outputId": "d44b71ff-d68a-466b-fae6-9fa8244d6a02"
      },
      "outputs": [
        {
          "data": {
            "text/plain": [
              "LogisticRegression(C=0.01, max_iter=200, solver='sag')"
            ]
          },
          "execution_count": 13,
          "metadata": {},
          "output_type": "execute_result"
        }
      ],
      "source": [
        "logistics_model = linear_model.LogisticRegression(solver='sag', C=0.01, max_iter=200)\n",
        "logistics_model.fit(x_train_vec, y_train)"
      ]
    },
    {
      "cell_type": "markdown",
      "metadata": {
        "id": "VJv2xSW1_48k"
      },
      "source": [
        "### Model Evaluation"
      ]
    },
    {
      "cell_type": "code",
      "execution_count": null,
      "metadata": {
        "colab": {
          "base_uri": "https://localhost:8080/"
        },
        "id": "G1rebOKL_0Tn",
        "outputId": "63deb4cf-431d-49db-f782-a95d4c292369"
      },
      "outputs": [
        {
          "name": "stdout",
          "output_type": "stream",
          "text": [
            "accuracy: 0.8388\n",
            "              precision    recall  f1-score   support\n",
            "\n",
            "           0       0.81      0.82      0.82      1000\n",
            "           1       0.98      0.95      0.96      1000\n",
            "           2       0.72      0.73      0.73      1000\n",
            "           3       0.83      0.88      0.85      1000\n",
            "           4       0.72      0.76      0.74      1000\n",
            "           5       0.92      0.91      0.91      1000\n",
            "           6       0.63      0.56      0.59      1000\n",
            "           7       0.90      0.92      0.91      1000\n",
            "           8       0.93      0.94      0.93      1000\n",
            "           9       0.93      0.94      0.93      1000\n",
            "\n",
            "    accuracy                           0.84     10000\n",
            "   macro avg       0.84      0.84      0.84     10000\n",
            "weighted avg       0.84      0.84      0.84     10000\n",
            "\n"
          ]
        }
      ],
      "source": [
        "pred = logistics_model.predict(x_test_vec)\n",
        "print(f'accuracy: {metrics.accuracy_score(y_test,pred)}')\n",
        "print(classification_report(y_test, pred))"
      ]
    },
    {
      "cell_type": "markdown",
      "metadata": {
        "id": "UCtmlhoOyix6"
      },
      "source": [
        "## Support Vector Machine"
      ]
    },
    {
      "cell_type": "code",
      "execution_count": null,
      "metadata": {
        "colab": {
          "base_uri": "https://localhost:8080/"
        },
        "id": "cnU0Gddqyo8D",
        "outputId": "5436880e-fcb0-4578-e2ff-2643e1c55e19"
      },
      "outputs": [
        {
          "data": {
            "text/plain": [
              "SVC()"
            ]
          },
          "execution_count": 6,
          "metadata": {},
          "output_type": "execute_result"
        }
      ],
      "source": [
        "svm_model = svm.SVC(kernel='rbf')\n",
        "svm_model.fit(x_train_vec, y_train)"
      ]
    },
    {
      "cell_type": "markdown",
      "metadata": {
        "id": "CZSIcMrv2FUJ"
      },
      "source": [
        "### Model Evaluation"
      ]
    },
    {
      "cell_type": "code",
      "execution_count": null,
      "metadata": {
        "colab": {
          "base_uri": "https://localhost:8080/"
        },
        "id": "mtsXbb1n0EpB",
        "outputId": "e375fe4f-dd99-46eb-cbec-6483546f72b7"
      },
      "outputs": [
        {
          "name": "stdout",
          "output_type": "stream",
          "text": [
            "accuracy: 0.8828\n",
            "              precision    recall  f1-score   support\n",
            "\n",
            "           0       0.83      0.86      0.84      1000\n",
            "           1       0.99      0.96      0.98      1000\n",
            "           2       0.79      0.82      0.80      1000\n",
            "           3       0.87      0.89      0.88      1000\n",
            "           4       0.81      0.81      0.81      1000\n",
            "           5       0.96      0.95      0.96      1000\n",
            "           6       0.72      0.65      0.69      1000\n",
            "           7       0.93      0.95      0.94      1000\n",
            "           8       0.97      0.98      0.97      1000\n",
            "           9       0.96      0.95      0.96      1000\n",
            "\n",
            "    accuracy                           0.88     10000\n",
            "   macro avg       0.88      0.88      0.88     10000\n",
            "weighted avg       0.88      0.88      0.88     10000\n",
            "\n"
          ]
        }
      ],
      "source": [
        "pred = svm_model.predict(x_test_vec)\n",
        "print(f'accuracy: {metrics.accuracy_score(y_test,pred)}')\n",
        "print(classification_report(y_test, pred))"
      ]
    },
    {
      "cell_type": "markdown",
      "metadata": {
        "id": "jCq4DZ7U-Cni"
      },
      "source": [
        "## Decision Tree"
      ]
    },
    {
      "cell_type": "code",
      "execution_count": null,
      "metadata": {
        "colab": {
          "base_uri": "https://localhost:8080/"
        },
        "id": "1Ls4EA6_-INo",
        "outputId": "39ce9a69-83e5-4542-ca76-04472a529ab5"
      },
      "outputs": [
        {
          "data": {
            "text/plain": [
              "DecisionTreeClassifier(criterion='entropy', min_samples_split=10)"
            ]
          },
          "execution_count": 59,
          "metadata": {},
          "output_type": "execute_result"
        }
      ],
      "source": [
        "tree_model = tree.DecisionTreeClassifier(min_samples_split=10, criterion='entropy')\n",
        "tree_model.fit(x_train_vec, y_train)"
      ]
    },
    {
      "cell_type": "markdown",
      "metadata": {
        "id": "telezXdw-9h6"
      },
      "source": [
        "### Model Evaluation"
      ]
    },
    {
      "cell_type": "code",
      "execution_count": null,
      "metadata": {
        "colab": {
          "base_uri": "https://localhost:8080/"
        },
        "id": "67vbaauj_D89",
        "outputId": "427cc173-8a6a-49fb-8064-ecdff82ccad9"
      },
      "outputs": [
        {
          "name": "stdout",
          "output_type": "stream",
          "text": [
            "accuracy: 0.8014\n",
            "              precision    recall  f1-score   support\n",
            "\n",
            "           0       0.75      0.74      0.74      1000\n",
            "           1       0.96      0.95      0.95      1000\n",
            "           2       0.67      0.69      0.68      1000\n",
            "           3       0.82      0.79      0.81      1000\n",
            "           4       0.67      0.66      0.66      1000\n",
            "           5       0.91      0.90      0.90      1000\n",
            "           6       0.55      0.57      0.56      1000\n",
            "           7       0.86      0.88      0.87      1000\n",
            "           8       0.93      0.93      0.93      1000\n",
            "           9       0.91      0.91      0.91      1000\n",
            "\n",
            "    accuracy                           0.80     10000\n",
            "   macro avg       0.80      0.80      0.80     10000\n",
            "weighted avg       0.80      0.80      0.80     10000\n",
            "\n"
          ]
        }
      ],
      "source": [
        "pred = tree_model.predict(x_test_vec)\n",
        "print(f'accuracy: {metrics.accuracy_score(y_test,pred)}')\n",
        "print(classification_report(y_test, pred))"
      ]
    },
    {
      "cell_type": "markdown",
      "metadata": {
        "id": "4GrY4vSiA0wA"
      },
      "source": [
        "## Random Forest"
      ]
    },
    {
      "cell_type": "code",
      "execution_count": null,
      "metadata": {
        "colab": {
          "base_uri": "https://localhost:8080/"
        },
        "id": "Xsp8p2iqA5Ge",
        "outputId": "b6a2085a-5899-48ff-a7ae-84d64d0a1276"
      },
      "outputs": [
        {
          "data": {
            "text/plain": [
              "RandomForestClassifier(criterion='entropy', min_samples_split=10)"
            ]
          },
          "execution_count": 23,
          "metadata": {},
          "output_type": "execute_result"
        }
      ],
      "source": [
        "forest_model = RandomForestClassifier(min_samples_split=10, criterion='entropy')\n",
        "forest_model.fit(x_train_vec, y_train)"
      ]
    },
    {
      "cell_type": "markdown",
      "metadata": {
        "id": "GVytd014BWG4"
      },
      "source": [
        "### Model Evaluation"
      ]
    },
    {
      "cell_type": "code",
      "execution_count": null,
      "metadata": {
        "colab": {
          "base_uri": "https://localhost:8080/"
        },
        "id": "reweQVeaBalB",
        "outputId": "6a7b1959-a059-4d76-c9dd-a297915648fb"
      },
      "outputs": [
        {
          "name": "stdout",
          "output_type": "stream",
          "text": [
            "accuracy: 0.8766\n",
            "              precision    recall  f1-score   support\n",
            "\n",
            "           0       0.82      0.86      0.84      1000\n",
            "           1       0.99      0.96      0.97      1000\n",
            "           2       0.77      0.80      0.78      1000\n",
            "           3       0.88      0.91      0.89      1000\n",
            "           4       0.77      0.81      0.79      1000\n",
            "           5       0.98      0.96      0.97      1000\n",
            "           6       0.72      0.59      0.65      1000\n",
            "           7       0.93      0.95      0.94      1000\n",
            "           8       0.96      0.97      0.96      1000\n",
            "           9       0.95      0.95      0.95      1000\n",
            "\n",
            "    accuracy                           0.88     10000\n",
            "   macro avg       0.88      0.88      0.88     10000\n",
            "weighted avg       0.88      0.88      0.88     10000\n",
            "\n"
          ]
        }
      ],
      "source": [
        "pred = forest_model.predict(x_test_vec)\n",
        "print(f'accuracy: {metrics.accuracy_score(y_test,pred)}')\n",
        "print(classification_report(y_test, pred))"
      ]
    },
    {
      "cell_type": "markdown",
      "metadata": {
        "id": "RDVy2sR1XJpB"
      },
      "source": [
        "## Deep Neural Network"
      ]
    },
    {
      "cell_type": "code",
      "execution_count": null,
      "metadata": {
        "id": "aUJ7yHe-NLGN"
      },
      "outputs": [],
      "source": [
        "tf.keras.backend.clear_session()\n",
        "model = tf.keras.Sequential(\n",
        "    [\n",
        "     tf.keras.Input(shape=(28,28,1)),\n",
        "     tf.keras.layers.Conv2D(32, kernel_size=(3,3), activation=tf.nn.relu),\n",
        "     tf.keras.layers.Dropout(rate=0.3),\n",
        "     tf.keras.layers.Conv2D(64, kernel_size=(3,3), activation=tf.nn.relu),\n",
        "     tf.keras.layers.Dropout(rate=0.3),\n",
        "     tf.keras.layers.MaxPooling2D(pool_size=(2, 2)),\n",
        "     tf.keras.layers.Conv2D(128, kernel_size=(3,3), activation=tf.nn.relu),\n",
        "     tf.keras.layers.Dropout(rate=0.3),\n",
        "     tf.keras.layers.Flatten(),\n",
        "     tf.keras.layers.Dense(256, activation=tf.nn.relu, kernel_initializer=tf.initializers.HeUniform(seed=42)),\n",
        "     tf.keras.layers.Dropout(rate=0.3),\n",
        "     tf.keras.layers.Dense(10, activation=\"softmax\"),\n",
        "    ]\n",
        ")"
      ]
    },
    {
      "cell_type": "code",
      "execution_count": null,
      "metadata": {
        "colab": {
          "base_uri": "https://localhost:8080/"
        },
        "id": "UTf4uqFW68V4",
        "outputId": "ca5d3526-2c32-47a1-aafe-c778e1fa8186"
      },
      "outputs": [
        {
          "name": "stdout",
          "output_type": "stream",
          "text": [
            "Model: \"sequential\"\n",
            "_________________________________________________________________\n",
            " Layer (type)                Output Shape              Param #   \n",
            "=================================================================\n",
            " conv2d (Conv2D)             (None, 26, 26, 32)        320       \n",
            "                                                                 \n",
            " dropout (Dropout)           (None, 26, 26, 32)        0         \n",
            "                                                                 \n",
            " conv2d_1 (Conv2D)           (None, 24, 24, 64)        18496     \n",
            "                                                                 \n",
            " dropout_1 (Dropout)         (None, 24, 24, 64)        0         \n",
            "                                                                 \n",
            " max_pooling2d (MaxPooling2D  (None, 12, 12, 64)       0         \n",
            " )                                                               \n",
            "                                                                 \n",
            " conv2d_2 (Conv2D)           (None, 10, 10, 128)       73856     \n",
            "                                                                 \n",
            " dropout_2 (Dropout)         (None, 10, 10, 128)       0         \n",
            "                                                                 \n",
            " flatten (Flatten)           (None, 12800)             0         \n",
            "                                                                 \n",
            " dense (Dense)               (None, 256)               3277056   \n",
            "                                                                 \n",
            " dropout_3 (Dropout)         (None, 256)               0         \n",
            "                                                                 \n",
            " dense_1 (Dense)             (None, 10)                2570      \n",
            "                                                                 \n",
            "=================================================================\n",
            "Total params: 3,372,298\n",
            "Trainable params: 3,372,298\n",
            "Non-trainable params: 0\n",
            "_________________________________________________________________\n"
          ]
        }
      ],
      "source": [
        "model.summary()\n"
      ]
    },
    {
      "cell_type": "code",
      "execution_count": null,
      "metadata": {
        "id": "N8QY6JBm7ZP3"
      },
      "outputs": [],
      "source": [
        "model.compile(optimizer=tf.keras.optimizers.Adam(), loss=tf.losses.CategoricalCrossentropy(),metrics=['acc'])\n"
      ]
    },
    {
      "cell_type": "code",
      "execution_count": null,
      "metadata": {
        "colab": {
          "base_uri": "https://localhost:8080/"
        },
        "id": "JZcGDOp08Prv",
        "outputId": "fef60637-294c-461a-c4b4-552da5d9d85f"
      },
      "outputs": [
        {
          "name": "stdout",
          "output_type": "stream",
          "text": [
            "Epoch 1/13\n",
            "422/422 [==============================] - 13s 30ms/step - loss: 0.0873 - acc: 0.9669 - val_loss: 0.2157 - val_acc: 0.9287\n",
            "Epoch 2/13\n",
            "422/422 [==============================] - 12s 28ms/step - loss: 0.0831 - acc: 0.9683 - val_loss: 0.2330 - val_acc: 0.9272\n",
            "Epoch 3/13\n",
            "422/422 [==============================] - 11s 26ms/step - loss: 0.0788 - acc: 0.9707 - val_loss: 0.2305 - val_acc: 0.9297\n",
            "Epoch 4/13\n",
            "422/422 [==============================] - 11s 25ms/step - loss: 0.0748 - acc: 0.9720 - val_loss: 0.2354 - val_acc: 0.9270\n",
            "Epoch 5/13\n",
            "422/422 [==============================] - 10s 25ms/step - loss: 0.0693 - acc: 0.9741 - val_loss: 0.2430 - val_acc: 0.9230\n",
            "Epoch 6/13\n",
            "422/422 [==============================] - 11s 25ms/step - loss: 0.0628 - acc: 0.9765 - val_loss: 0.2479 - val_acc: 0.9278\n",
            "Epoch 7/13\n",
            "422/422 [==============================] - 10s 24ms/step - loss: 0.0633 - acc: 0.9763 - val_loss: 0.2570 - val_acc: 0.9267\n",
            "Epoch 8/13\n",
            "422/422 [==============================] - 11s 25ms/step - loss: 0.0572 - acc: 0.9787 - val_loss: 0.2661 - val_acc: 0.9305\n",
            "Epoch 9/13\n",
            "422/422 [==============================] - 10s 25ms/step - loss: 0.0565 - acc: 0.9791 - val_loss: 0.2735 - val_acc: 0.9258\n",
            "Epoch 10/13\n",
            "422/422 [==============================] - 10s 25ms/step - loss: 0.0610 - acc: 0.9782 - val_loss: 0.2517 - val_acc: 0.9283\n",
            "Epoch 11/13\n",
            "422/422 [==============================] - 11s 25ms/step - loss: 0.0580 - acc: 0.9784 - val_loss: 0.2585 - val_acc: 0.9263\n",
            "Epoch 12/13\n",
            "422/422 [==============================] - 11s 25ms/step - loss: 0.0543 - acc: 0.9800 - val_loss: 0.2741 - val_acc: 0.9245\n",
            "Epoch 13/13\n",
            "422/422 [==============================] - 11s 25ms/step - loss: 0.0512 - acc: 0.9813 - val_loss: 0.2782 - val_acc: 0.9272\n"
          ]
        }
      ],
      "source": [
        "history = model.fit(x=x_train, y=y_train_hot, batch_size=128, epochs=13, validation_split=0.1)"
      ]
    },
    {
      "cell_type": "markdown",
      "metadata": {
        "id": "h3UGEE646BJv"
      },
      "source": [
        "### Model Evaluation"
      ]
    },
    {
      "cell_type": "code",
      "execution_count": null,
      "metadata": {
        "colab": {
          "base_uri": "https://localhost:8080/",
          "height": 295
        },
        "id": "Y8uR6Y4Q3h2V",
        "outputId": "1410bce0-00dc-4d19-e6a5-b4e1f75fa315"
      },
      "outputs": [
        {
          "data": {
            "image/png": "[encoded data removed]",
            "text/plain": [
              "<Figure size 432x288 with 1 Axes>"
            ]
          },
          "metadata": {
            "needs_background": "light"
          },
          "output_type": "display_data"
        }
      ],
      "source": [
        "plt.plot(history.history['acc'])\n",
        "plt.plot(history.history['val_acc'])\n",
        "plt.title('model accuracy')\n",
        "plt.ylabel('accuracy')\n",
        "plt.xlabel('epoch')\n",
        "plt.legend(['train', 'test'], loc='upper left')\n",
        "plt.show()"
      ]
    },
    {
      "cell_type": "code",
      "execution_count": null,
      "metadata": {
        "colab": {
          "base_uri": "https://localhost:8080/",
          "height": 295
        },
        "id": "XRMQYfKW4Jtn",
        "outputId": "d2cd06bc-b010-48a6-edfb-0d44da22bb28"
      },
      "outputs": [
        {
          "data": {
            "image/png": "[encoded data removed]",
            "text/plain": [
              "<Figure size 432x288 with 1 Axes>"
            ]
          },
          "metadata": {
            "needs_background": "light"
          },
          "output_type": "display_data"
        }
      ],
      "source": [
        "plt.plot(history.history['loss'])\n",
        "plt.plot(history.history['val_loss'])\n",
        "plt.title('model loss')\n",
        "plt.ylabel('loss')\n",
        "plt.xlabel('epoch')\n",
        "plt.legend(['train', 'test'], loc='upper left')\n",
        "plt.show()"
      ]
    },
    {
      "cell_type": "code",
      "execution_count": null,
      "metadata": {
        "colab": {
          "base_uri": "https://localhost:8080/"
        },
        "id": "gmeTbnWmeXGK",
        "outputId": "5d3f29fe-f847-4373-bc30-df86941729a8"
      },
      "outputs": [
        {
          "name": "stdout",
          "output_type": "stream",
          "text": [
            "313/313 [==============================] - 2s 5ms/step - loss: 0.3084 - acc: 0.9218\n",
            "Test loss: 0.3084143102169037\n",
            "Test accuracy: 0.9218000173568726\n"
          ]
        }
      ],
      "source": [
        "score = model.evaluate(x_test, y_test_hot)\n",
        "print('Test loss:', score[0]) \n",
        "print('Test accuracy:', score[1]) "
      ]
    },
    {
      "cell_type": "markdown",
      "metadata": {
        "id": "56GlG1FP6QPE"
      },
      "source": [
        "# The Best Model is DNN with CNN"
      ]
    }
  ],
  "metadata": {
    "accelerator": "GPU",
    "colab": {
      "collapsed_sections": [],
      "name": "Assignment 04: Deep Learning - Hussein Fadhel",
      "provenance": [],
      "toc_visible": true
    },
    "kernelspec": {
      "display_name": "Python 3",
      "name": "python3"
    },
    "language_info": {
      "name": "python"
    }
  },
  "nbformat": 4,
  "nbformat_minor": 0
}
